{
 "cells": [
  {
   "cell_type": "markdown",
   "metadata": {},
   "source": [
    "# Image Classification"
   ]
  },
  {
   "cell_type": "code",
   "execution_count": 62,
   "metadata": {},
   "outputs": [],
   "source": [
    "import numpy as np\n",
    "import os\n",
    "import keras\n",
    "from keras.models import Sequential\n",
    "from keras.layers import Conv2D\n",
    "from keras.layers import Activation\n",
    "from keras.layers import MaxPooling2D\n",
    "from keras.layers import Flatten\n",
    "from keras.layers import Dense\n",
    "from keras.layers import Dropout, BatchNormalization\n",
    "from keras import optimizers\n",
    "from keras.preprocessing.image import ImageDataGenerator, array_to_img, img_to_array, load_img, image\n",
    "from IPython.display import display\n",
    "from PIL import Image\n",
    "import pickle \n",
    "import matplotlib.pyplot as plt"
   ]
  },
  {
   "cell_type": "code",
   "execution_count": 3,
   "metadata": {},
   "outputs": [],
   "source": [
    "datagen = ImageDataGenerator(\n",
    "        rotation_range=40,\n",
    "        width_shift_range=0.2,\n",
    "        height_shift_range=0.2,\n",
    "        rescale=1./255,\n",
    "        shear_range=0.2,\n",
    "        zoom_range=0.2,\n",
    "        horizontal_flip=True,\n",
    "        fill_mode='nearest')\n",
    "\n",
    "\n",
    "input_width = 100\n",
    "input_height = 100"
   ]
  },
  {
   "cell_type": "code",
   "execution_count": 101,
   "metadata": {},
   "outputs": [
    {
     "name": "stderr",
     "output_type": "stream",
     "text": [
      "/home/suneel/miniconda3/envs/nlp/lib/python3.6/site-packages/ipykernel_launcher.py:5: UserWarning: Update your `Conv2D` call to the Keras 2 API: `Conv2D(32, (3, 3), input_shape=(100, 100,..., activation=\"relu\", padding=\"same\")`\n",
      "  \"\"\"\n",
      "/home/suneel/miniconda3/envs/nlp/lib/python3.6/site-packages/ipykernel_launcher.py:9: UserWarning: Update your `Conv2D` call to the Keras 2 API: `Conv2D(64, (3, 3), activation=\"relu\", padding=\"same\")`\n",
      "  if __name__ == '__main__':\n",
      "/home/suneel/miniconda3/envs/nlp/lib/python3.6/site-packages/ipykernel_launcher.py:13: UserWarning: Update your `Conv2D` call to the Keras 2 API: `Conv2D(128, (3, 3), activation=\"relu\", padding=\"same\")`\n",
      "  del sys.path[0]\n",
      "/home/suneel/miniconda3/envs/nlp/lib/python3.6/site-packages/ipykernel_launcher.py:17: UserWarning: Update your `Conv2D` call to the Keras 2 API: `Conv2D(128, (3, 3), activation=\"relu\", padding=\"same\")`\n",
      "/home/suneel/miniconda3/envs/nlp/lib/python3.6/site-packages/ipykernel_launcher.py:21: UserWarning: Update your `Conv2D` call to the Keras 2 API: `Conv2D(64, (3, 3), activation=\"relu\", padding=\"same\")`\n"
     ]
    },
    {
     "name": "stdout",
     "output_type": "stream",
     "text": [
      "_________________________________________________________________\n",
      "Layer (type)                 Output Shape              Param #   \n",
      "=================================================================\n",
      "conv2d_76 (Conv2D)           (None, 100, 100, 32)      320       \n",
      "_________________________________________________________________\n",
      "max_pooling2d_72 (MaxPooling (None, 50, 50, 32)        0         \n",
      "_________________________________________________________________\n",
      "batch_normalization_53 (Batc (None, 50, 50, 32)        128       \n",
      "_________________________________________________________________\n",
      "conv2d_77 (Conv2D)           (None, 50, 50, 64)        18496     \n",
      "_________________________________________________________________\n",
      "max_pooling2d_73 (MaxPooling (None, 25, 25, 64)        0         \n",
      "_________________________________________________________________\n",
      "batch_normalization_54 (Batc (None, 25, 25, 64)        256       \n",
      "_________________________________________________________________\n",
      "conv2d_78 (Conv2D)           (None, 25, 25, 128)       73856     \n",
      "_________________________________________________________________\n",
      "max_pooling2d_74 (MaxPooling (None, 12, 12, 128)       0         \n",
      "_________________________________________________________________\n",
      "batch_normalization_55 (Batc (None, 12, 12, 128)       512       \n",
      "_________________________________________________________________\n",
      "conv2d_79 (Conv2D)           (None, 12, 12, 128)       147584    \n",
      "_________________________________________________________________\n",
      "max_pooling2d_75 (MaxPooling (None, 6, 6, 128)         0         \n",
      "_________________________________________________________________\n",
      "batch_normalization_56 (Batc (None, 6, 6, 128)         512       \n",
      "_________________________________________________________________\n",
      "conv2d_80 (Conv2D)           (None, 6, 6, 64)          73792     \n",
      "_________________________________________________________________\n",
      "max_pooling2d_76 (MaxPooling (None, 3, 3, 64)          0         \n",
      "_________________________________________________________________\n",
      "batch_normalization_57 (Batc (None, 3, 3, 64)          256       \n",
      "_________________________________________________________________\n",
      "flatten_20 (Flatten)         (None, 576)               0         \n",
      "_________________________________________________________________\n",
      "dense_59 (Dense)             (None, 256)               147712    \n",
      "_________________________________________________________________\n",
      "batch_normalization_58 (Batc (None, 256)               1024      \n",
      "_________________________________________________________________\n",
      "dropout_26 (Dropout)         (None, 256)               0         \n",
      "_________________________________________________________________\n",
      "dense_60 (Dense)             (None, 64)                16448     \n",
      "_________________________________________________________________\n",
      "batch_normalization_59 (Batc (None, 64)                256       \n",
      "_________________________________________________________________\n",
      "dense_61 (Dense)             (None, 1)                 65        \n",
      "=================================================================\n",
      "Total params: 481,217\n",
      "Trainable params: 479,745\n",
      "Non-trainable params: 1,472\n",
      "_________________________________________________________________\n"
     ]
    }
   ],
   "source": [
    "#Defining sequential model \n",
    "classifier = Sequential()\n",
    "\n",
    "#using grayscale input\n",
    "classifier.add(Conv2D(32, (3, 3), border_mode='same', input_shape = (input_width, input_height, 1), activation = 'relu'))\n",
    "classifier.add(MaxPooling2D(pool_size = (2,2)))\n",
    "classifier.add(BatchNormalization())\n",
    "\n",
    "classifier.add(Conv2D(64, (3, 3), border_mode='same', activation = 'relu'))\n",
    "classifier.add(MaxPooling2D(pool_size = (2,2)))\n",
    "classifier.add(BatchNormalization())\n",
    "\n",
    "classifier.add(Conv2D(128, (3, 3), border_mode='same', activation = 'relu'))\n",
    "classifier.add(MaxPooling2D(pool_size = (2,2)))\n",
    "classifier.add(BatchNormalization())\n",
    "\n",
    "classifier.add(Conv2D(128, (3, 3), border_mode='same', activation = 'relu'))\n",
    "classifier.add(MaxPooling2D(pool_size = (2,2)))\n",
    "classifier.add(BatchNormalization())\n",
    "\n",
    "classifier.add(Conv2D(64, (3, 3), border_mode='same', activation = 'relu'))\n",
    "classifier.add(MaxPooling2D(pool_size = (2,2)))\n",
    "classifier.add(BatchNormalization())\n",
    "\n",
    "classifier.add(Flatten())\n",
    "classifier.add(Dense(256, activation = 'relu'))\n",
    "classifier.add(BatchNormalization())\n",
    "classifier.add(Dropout(0.4))\n",
    "classifier.add(Dense(64, activation = 'relu'))\n",
    "classifier.add(BatchNormalization())\n",
    "classifier.add(Dense(1, activation = 'sigmoid'))\n",
    "\n",
    "classifier.compile(optimizer ='rmsprop', loss = 'binary_crossentropy', metrics = ['accuracy'])\n",
    "\n",
    "classifier.summary()"
   ]
  },
  {
   "cell_type": "code",
   "execution_count": 102,
   "metadata": {},
   "outputs": [],
   "source": [
    "#Normalizing Input\n",
    "train_datagen = ImageDataGenerator(rescale = 1./255,\n",
    "                                   shear_range = 0.2,\n",
    "                                   zoom_range = 0.2,\n",
    "                                   horizontal_flip = True)\n",
    "\n",
    "test_datagen = ImageDataGenerator(rescale = 1./255)"
   ]
  },
  {
   "cell_type": "code",
   "execution_count": 103,
   "metadata": {},
   "outputs": [
    {
     "name": "stdout",
     "output_type": "stream",
     "text": [
      "Found 8000 images belonging to 2 classes.\n"
     ]
    }
   ],
   "source": [
    "training_data = train_datagen.flow_from_directory('./ImagesData/training_set',\n",
    "                                                  target_size=(input_width, input_height),\n",
    "                                                  batch_size = 40,\n",
    "                                                  color_mode = 'grayscale',\n",
    "                                                  class_mode = 'binary')"
   ]
  },
  {
   "cell_type": "code",
   "execution_count": 104,
   "metadata": {},
   "outputs": [
    {
     "name": "stdout",
     "output_type": "stream",
     "text": [
      "Found 2000 images belonging to 2 classes.\n"
     ]
    }
   ],
   "source": [
    "test_set = test_datagen.flow_from_directory('./ImagesData/test_set',\n",
    "                                            target_size=(input_width, input_height),\n",
    "                                            batch_size=40,\n",
    "                                            color_mode = 'grayscale',\n",
    "                                            class_mode='binary')"
   ]
  },
  {
   "cell_type": "code",
   "execution_count": 11,
   "metadata": {},
   "outputs": [
    {
     "name": "stdout",
     "output_type": "stream",
     "text": [
      "2\n",
      "(40, 100, 100, 1)\n"
     ]
    }
   ],
   "source": [
    "for image in training_data:\n",
    "    print(len(image))\n",
    "    print(image[0].shape)\n",
    "    break"
   ]
  },
  {
   "cell_type": "code",
   "execution_count": 19,
   "metadata": {},
   "outputs": [
    {
     "data": {
      "text/plain": [
       "50"
      ]
     },
     "execution_count": 19,
     "metadata": {},
     "output_type": "execute_result"
    }
   ],
   "source": [
    "len(test_set)"
   ]
  },
  {
   "cell_type": "code",
   "execution_count": 105,
   "metadata": {},
   "outputs": [
    {
     "name": "stdout",
     "output_type": "stream",
     "text": [
      "Starting Classification\n",
      "Epoch 1/15\n",
      "200/200 [==============================] - 84s 419ms/step - loss: 0.6875 - acc: 0.6193 - val_loss: 1.1119 - val_acc: 0.5780\n",
      "Epoch 2/15\n",
      "200/200 [==============================] - 79s 393ms/step - loss: 0.5652 - acc: 0.7100 - val_loss: 0.6967 - val_acc: 0.6785\n",
      "Epoch 3/15\n",
      "200/200 [==============================] - 81s 404ms/step - loss: 0.4827 - acc: 0.7710 - val_loss: 0.4681 - val_acc: 0.7925\n",
      "Epoch 4/15\n",
      "200/200 [==============================] - 80s 398ms/step - loss: 0.4190 - acc: 0.8111 - val_loss: 0.3794 - val_acc: 0.8265\n",
      "Epoch 5/15\n",
      "200/200 [==============================] - 80s 400ms/step - loss: 0.3630 - acc: 0.8359 - val_loss: 0.3858 - val_acc: 0.8315\n",
      "Epoch 6/15\n",
      "200/200 [==============================] - 80s 399ms/step - loss: 0.3376 - acc: 0.8501 - val_loss: 0.2983 - val_acc: 0.8810\n",
      "Epoch 7/15\n",
      "200/200 [==============================] - 80s 398ms/step - loss: 0.2994 - acc: 0.8677 - val_loss: 0.4036 - val_acc: 0.8240\n",
      "Epoch 8/15\n",
      "200/200 [==============================] - 77s 387ms/step - loss: 0.2761 - acc: 0.8870 - val_loss: 0.3566 - val_acc: 0.8500\n",
      "Epoch 9/15\n",
      "200/200 [==============================] - 74s 370ms/step - loss: 0.2505 - acc: 0.8974 - val_loss: 0.3326 - val_acc: 0.8720\n",
      "Epoch 10/15\n",
      "200/200 [==============================] - 75s 374ms/step - loss: 0.2357 - acc: 0.9000 - val_loss: 0.2815 - val_acc: 0.8790\n",
      "Epoch 11/15\n",
      "200/200 [==============================] - 75s 373ms/step - loss: 0.2168 - acc: 0.9106 - val_loss: 0.3406 - val_acc: 0.8550\n",
      "Epoch 12/15\n",
      "200/200 [==============================] - 74s 369ms/step - loss: 0.2015 - acc: 0.9199 - val_loss: 0.2797 - val_acc: 0.8800\n",
      "Epoch 13/15\n",
      "200/200 [==============================] - 75s 374ms/step - loss: 0.1951 - acc: 0.9209 - val_loss: 0.2749 - val_acc: 0.8825\n",
      "Epoch 14/15\n",
      "200/200 [==============================] - 74s 369ms/step - loss: 0.1754 - acc: 0.9295 - val_loss: 0.3399 - val_acc: 0.8710\n",
      "Epoch 15/15\n",
      "200/200 [==============================] - 74s 370ms/step - loss: 0.1690 - acc: 0.9329 - val_loss: 0.2571 - val_acc: 0.8980\n",
      "Model Serialized and Saved\n",
      "CPU times: user 3h 3min 24s, sys: 7min 56s, total: 3h 11min 20s\n",
      "Wall time: 19min 24s\n"
     ]
    }
   ],
   "source": [
    "%%time\n",
    "#Starting Classification\n",
    "print(\"Starting Classification\")\n",
    "history = classifier.fit_generator(training_data, steps_per_epoch=200, epochs=15, validation_data=test_set, validation_steps=50)\n",
    "\n",
    "#Saving Model\n",
    "pickle.dump(classifier, open('cnnModel7_copy.sav', 'wb'))\n",
    "print('Model Serialized and Saved')"
   ]
  },
  {
   "cell_type": "code",
   "execution_count": 106,
   "metadata": {},
   "outputs": [
    {
     "data": {
      "text/plain": [
       "[<matplotlib.lines.Line2D at 0x7f9c22532ac8>]"
      ]
     },
     "execution_count": 106,
     "metadata": {},
     "output_type": "execute_result"
    },
    {
     "data": {
      "image/png": "[encoded data removed]",
      "text/plain": [
       "<Figure size 432x288 with 1 Axes>"
      ]
     },
     "metadata": {
      "needs_background": "light"
     },
     "output_type": "display_data"
    }
   ],
   "source": [
    "plt.plot(history.history['acc'])\n",
    "plt.plot(history.history['val_acc'])"
   ]
  },
  {
   "cell_type": "code",
   "execution_count": 107,
   "metadata": {},
   "outputs": [
    {
     "data": {
      "text/plain": [
       "[<matplotlib.lines.Line2D at 0x7f9c2a489128>]"
      ]
     },
     "execution_count": 107,
     "metadata": {},
     "output_type": "execute_result"
    },
    {
     "data": {
      "image/png": "[encoded data removed]",
      "text/plain": [
       "<Figure size 432x288 with 1 Axes>"
      ]
     },
     "metadata": {
      "needs_background": "light"
     },
     "output_type": "display_data"
    }
   ],
   "source": [
    "plt.plot(history.history['loss'])\n",
    "plt.plot(history.history['val_loss'])"
   ]
  },
  {
   "cell_type": "code",
   "execution_count": null,
   "metadata": {},
   "outputs": [],
   "source": [
    "#Testing Model\n",
    "test_path = \"./ImagesData/New_Test_Data\""
   ]
  },
  {
   "cell_type": "code",
   "execution_count": null,
   "metadata": {},
   "outputs": [],
   "source": [
    "#classifier = pickle.load(open('cnnModel5.sav', 'rb'))\n",
    "#data = np.array([[\"FileName\"], [\"Class\"]]).T"
   ]
  },
  {
   "cell_type": "code",
   "execution_count": null,
   "metadata": {},
   "outputs": [],
   "source": [
    "for file in os.listdir(test_path):\n",
    "    if(file.endswith(\".jpg\")):\n",
    "        name = file\n",
    "        img_test = image.load_img(test_path + \"/\" + file,target_size = (input_width,input_height), grayscale = True)\n",
    "        img_test_arr = image.img_to_array(img_test)\n",
    "        img_test_arr = np.expand_dims(img_test_arr, axis = 0)\n",
    "        result = classifier.predict(img_test_arr)\n",
    "        if result[0][0] >= 0.5:\n",
    "            prediction = \"DOG\"\n",
    "        else:\n",
    "            prediction = \"CAT\"\n",
    "\n",
    "        display(img_test)\n",
    "        print(prediction)"
   ]
  },
  {
   "cell_type": "code",
   "execution_count": null,
   "metadata": {},
   "outputs": [],
   "source": []
  },
  {
   "cell_type": "code",
   "execution_count": null,
   "metadata": {},
   "outputs": [],
   "source": []
  },
  {
   "cell_type": "code",
   "execution_count": null,
   "metadata": {},
   "outputs": [],
   "source": []
  },
  {
   "cell_type": "code",
   "execution_count": null,
   "metadata": {},
   "outputs": [],
   "source": []
  },
  {
   "cell_type": "code",
   "execution_count": null,
   "metadata": {},
   "outputs": [],
   "source": []
  },
  {
   "cell_type": "code",
   "execution_count": null,
   "metadata": {},
   "outputs": [],
   "source": []
  },
  {
   "cell_type": "code",
   "execution_count": null,
   "metadata": {},
   "outputs": [],
   "source": []
  }
 ],
 "metadata": {
  "kernelspec": {
   "display_name": "Python 3",
   "language": "python",
   "name": "python3"
  },
  "language_info": {
   "codemirror_mode": {
    "name": "ipython",
    "version": 3
   },
   "file_extension": ".py",
   "mimetype": "text/x-python",
   "name": "python",
   "nbconvert_exporter": "python",
   "pygments_lexer": "ipython3",
   "version": "3.6.7"
  },
  "toc": {
   "base_numbering": 1,
   "nav_menu": {},
   "number_sections": true,
   "sideBar": true,
   "skip_h1_title": false,
   "title_cell": "Table of Contents",
   "title_sidebar": "Contents",
   "toc_cell": false,
   "toc_position": {},
   "toc_section_display": true,
   "toc_window_display": true
  }
 },
 "nbformat": 4,
 "nbformat_minor": 2
}
