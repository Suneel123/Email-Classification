{
 "cells": [
  {
   "cell_type": "code",
   "execution_count": 225,
   "metadata": {},
   "outputs": [],
   "source": [
    "from keras import regularizers   \n",
    "from keras.layers import Dense, Activation, Dropout \n",
    "from keras.models import Sequential\n",
    "from keras.preprocessing.text import Tokenizer \n",
    "from sklearn.feature_extraction.text import ENGLISH_STOP_WORDS\n",
    "from sklearn.model_selection import train_test_split\n",
    "from sklearn.preprocessing import LabelBinarizer\n",
    "from sklearn.metrics import confusion_matrix, auc, precision_recall_curve\n",
    "import seaborn as sns\n",
    "import matplotlib.pyplot as plt \n",
    "import email\n",
    "import mailparser\n",
    "import numpy as np\n",
    "import pandas as pd\n",
    "import re"
   ]
  },
  {
   "cell_type": "code",
   "execution_count": 116,
   "metadata": {},
   "outputs": [],
   "source": [
    "df = pd.read_excel('../data/raw/Training Data set Updated 11-Jul-2019.xlsx', header=2)"
   ]
  },
  {
   "cell_type": "code",
   "execution_count": 117,
   "metadata": {},
   "outputs": [
    {
     "data": {
      "text/html": [
       "<div>\n",
       "<style scoped>\n",
       "    .dataframe tbody tr th:only-of-type {\n",
       "        vertical-align: middle;\n",
       "    }\n",
       "\n",
       "    .dataframe tbody tr th {\n",
       "        vertical-align: top;\n",
       "    }\n",
       "\n",
       "    .dataframe thead th {\n",
       "        text-align: right;\n",
       "    }\n",
       "</style>\n",
       "<table border=\"1\" class=\"dataframe\">\n",
       "  <thead>\n",
       "    <tr style=\"text-align: right;\">\n",
       "      <th></th>\n",
       "      <th>Subject</th>\n",
       "      <th>Service Type 1</th>\n",
       "      <th>Service Type 2</th>\n",
       "      <th>Mail Body</th>\n",
       "    </tr>\n",
       "  </thead>\n",
       "  <tbody>\n",
       "    <tr>\n",
       "      <th>0</th>\n",
       "      <td>Re: Pending Documents - Grab Greco</td>\n",
       "      <td>GTL_Queries</td>\n",
       "      <td>Renewals</td>\n",
       "      <td>Hi Nikhil,\\r\\n\\r\\nPlease find the same attache...</td>\n",
       "    </tr>\n",
       "    <tr>\n",
       "      <th>1</th>\n",
       "      <td>Anarock  Group -GTL  Addition / Deletion - Dec...</td>\n",
       "      <td>GTL_Policy Servicing</td>\n",
       "      <td>Addition/Deletion</td>\n",
       "      <td>Dear all,\\r\\n\\r\\nPlease find the below Correct...</td>\n",
       "    </tr>\n",
       "  </tbody>\n",
       "</table>\n",
       "</div>"
      ],
      "text/plain": [
       "                                             Subject        Service Type 1  \\\n",
       "0                 Re: Pending Documents - Grab Greco           GTL_Queries   \n",
       "1  Anarock  Group -GTL  Addition / Deletion - Dec...  GTL_Policy Servicing   \n",
       "\n",
       "      Service Type 2                                          Mail Body  \n",
       "0           Renewals  Hi Nikhil,\\r\\n\\r\\nPlease find the same attache...  \n",
       "1  Addition/Deletion  Dear all,\\r\\n\\r\\nPlease find the below Correct...  "
      ]
     },
     "execution_count": 117,
     "metadata": {},
     "output_type": "execute_result"
    }
   ],
   "source": [
    "df.head(2)"
   ]
  },
  {
   "cell_type": "code",
   "execution_count": 118,
   "metadata": {},
   "outputs": [
    {
     "data": {
      "text/plain": [
       "Subject           object\n",
       "Service Type 1    object\n",
       "Service Type 2    object\n",
       "Mail Body         object\n",
       "dtype: object"
      ]
     },
     "execution_count": 118,
     "metadata": {},
     "output_type": "execute_result"
    }
   ],
   "source": [
    "df.dtypes"
   ]
  },
  {
   "cell_type": "code",
   "execution_count": 119,
   "metadata": {},
   "outputs": [],
   "source": [
    "df.columns = df.columns.str.strip().str.lower().str.replace(' ', '_')"
   ]
  },
  {
   "cell_type": "code",
   "execution_count": 120,
   "metadata": {},
   "outputs": [],
   "source": [
    "df['email'] = df[['subject', 'mail_body']].apply(lambda x: ' '.join([str(x[0]), str(x[1])]), axis=1)"
   ]
  },
  {
   "cell_type": "code",
   "execution_count": 121,
   "metadata": {},
   "outputs": [],
   "source": [
    "categories = (df['service_type_1']\n",
    "              .value_counts()\n",
    "              .where(lambda x: x > 50)\n",
    "              .dropna()\n",
    "              .index\n",
    "              .tolist())"
   ]
  },
  {
   "cell_type": "code",
   "execution_count": 122,
   "metadata": {},
   "outputs": [],
   "source": [
    "def clean(email):\n",
    "    email = re.sub(r\"\\n+\", \". \", email)\n",
    "    email = re.sub(r\"\\'s\", \"\", email)\n",
    "    email = re.sub(r\"\\'ve\", \"\", email)\n",
    "    email = re.sub(r\"n\\'t\", \"\", email)\n",
    "    email = re.sub(r\"\\'re\", \"\", email)\n",
    "    email = re.sub(r\"\\'d\", \"\", email)\n",
    "    email = re.sub(r\"\\'ll\", \"\", email)\n",
    "    email = re.sub(r\",\", \"\", email)\n",
    "    email = re.sub(r\"!\", \" ! \", email)\n",
    "    email = re.sub(r\"\\(\", \"\", email)\n",
    "    email = re.sub(r\"\\)\", \"\", email)\n",
    "    email = re.sub(r\"\\?\", \"\", email)\n",
    "    email = re.sub(r\"'\", \"\", email)\n",
    "    email = re.sub(r\"[^A-Za-z0-9(),!?\\'\\`]\", \" \", email)\n",
    "    email = re.sub(r\"[0-9]\\w+|[0-9]\",\"\", email)\n",
    "    email = re.sub(r\"\\s{2,}\", \" \", email)\n",
    "    email = email.strip().lower()\n",
    "    email = [word for word in email.split() if word not in ENGLISH_STOP_WORDS]\n",
    "    email = ' '.join(email)\n",
    "    return email"
   ]
  },
  {
   "cell_type": "code",
   "execution_count": 126,
   "metadata": {},
   "outputs": [],
   "source": [
    "model_df = df[df['service_type_1'].isin(categories)].copy()"
   ]
  },
  {
   "cell_type": "code",
   "execution_count": 240,
   "metadata": {},
   "outputs": [
    {
     "data": {
      "text/plain": [
       "<matplotlib.axes._subplots.AxesSubplot at 0x7f40061eeef0>"
      ]
     },
     "execution_count": 240,
     "metadata": {},
     "output_type": "execute_result"
    },
    {
     "data": {
      "image/png": "[encoded data removed]",
      "text/plain": [
       "<Figure size 432x288 with 1 Axes>"
      ]
     },
     "metadata": {
      "needs_background": "light"
     },
     "output_type": "display_data"
    }
   ],
   "source": [
    "model_df['service_type_1'].value_counts().plot(kind='bar')"
   ]
  },
  {
   "cell_type": "code",
   "execution_count": 128,
   "metadata": {},
   "outputs": [],
   "source": [
    "model_df['processed_email'] = model_df['email'].apply(clean)"
   ]
  },
  {
   "cell_type": "code",
   "execution_count": 135,
   "metadata": {},
   "outputs": [],
   "source": [
    "model_df.drop(['service_type_2'], axis=1, inplace=True)"
   ]
  },
  {
   "cell_type": "code",
   "execution_count": 137,
   "metadata": {},
   "outputs": [
    {
     "data": {
      "text/plain": [
       "LabelBinarizer(neg_label=0, pos_label=1, sparse_output=False)"
      ]
     },
     "execution_count": 137,
     "metadata": {},
     "output_type": "execute_result"
    }
   ],
   "source": [
    "lb = LabelBinarizer()\n",
    "lb.fit(model_df['service_type_1'])"
   ]
  },
  {
   "cell_type": "code",
   "execution_count": 138,
   "metadata": {},
   "outputs": [
    {
     "data": {
      "text/plain": [
       "array(['GTL_Policy Servicing', 'GTL_Queries', 'GTL_Renewal',\n",
       "       'GTL_Underwriting', 'No Value'], dtype='<U20')"
      ]
     },
     "execution_count": 138,
     "metadata": {},
     "output_type": "execute_result"
    }
   ],
   "source": [
    "lb.classes_"
   ]
  },
  {
   "cell_type": "code",
   "execution_count": 143,
   "metadata": {},
   "outputs": [],
   "source": [
    "train, test = train_test_split(model_df, test_size=0.2, stratify=model_df['service_type_1'], random_state=1310)"
   ]
  },
  {
   "cell_type": "code",
   "execution_count": 144,
   "metadata": {},
   "outputs": [],
   "source": [
    "X_train_raw = train['processed_email'].copy()\n",
    "X_test_raw = test['processed_email'].copy()\n",
    "y_train = lb.transform(train['service_type_1'])\n",
    "y_test = lb.transform(test['service_type_1'])"
   ]
  },
  {
   "cell_type": "code",
   "execution_count": 146,
   "metadata": {},
   "outputs": [
    {
     "name": "stdout",
     "output_type": "stream",
     "text": [
      "s/w: 6\n"
     ]
    }
   ],
   "source": [
    "email_tokens = [email.split() for email in X_train_raw]\n",
    "# length of each email\n",
    "emails_len = [len(email) for email in email_tokens]\n",
    "w = np.median(emails_len)\n",
    "s = len(set(X_train_raw))\n",
    "print(f's/w: {int(s/w)}')"
   ]
  },
  {
   "cell_type": "code",
   "execution_count": 151,
   "metadata": {},
   "outputs": [],
   "source": [
    "tokenizer = Tokenizer()\n",
    "tokenizer.fit_on_texts(X_train_raw)"
   ]
  },
  {
   "cell_type": "code",
   "execution_count": 152,
   "metadata": {},
   "outputs": [],
   "source": [
    "X_train = tokenizer.texts_to_matrix(X_train_raw, mode='tfidf')\n",
    "X_test = tokenizer.texts_to_matrix(X_test_raw, mode='tfidf')"
   ]
  },
  {
   "cell_type": "code",
   "execution_count": 199,
   "metadata": {},
   "outputs": [],
   "source": [
    "def fully_connected_mlp():\n",
    "    model = Sequential()\n",
    "    model.add(Dense(100, input_shape=(X_train.shape[1],)))\n",
    "    model.add(Activation('relu'))\n",
    "    model.add(Dropout(0.5))\n",
    "    model.add(Dense(50))\n",
    "    model.add(Activation('relu'))\n",
    "    model.add(Dropout(0.4))\n",
    "    model.add(Dense(len(lb.classes_)))\n",
    "    model.add(Activation('softmax'))\n",
    "    model.compile(loss='categorical_crossentropy', optimizer='adam', metrics=['accuracy'])\n",
    "    return model"
   ]
  },
  {
   "cell_type": "code",
   "execution_count": 200,
   "metadata": {},
   "outputs": [
    {
     "name": "stdout",
     "output_type": "stream",
     "text": [
      "CPU times: user 45 s, sys: 20.5 s, total: 1min 5s\n",
      "Wall time: 6.77 s\n"
     ]
    }
   ],
   "source": [
    "%%time\n",
    "model = fully_connected_mlp()\n",
    "history = model.fit(X_train, y_train, batch_size=100, epochs=20, verbose=0, validation_split=0.1)"
   ]
  },
  {
   "cell_type": "code",
   "execution_count": 201,
   "metadata": {},
   "outputs": [
    {
     "data": {
      "image/png": "[encoded data removed]",
      "text/plain": [
       "<Figure size 432x288 with 1 Axes>"
      ]
     },
     "metadata": {
      "needs_background": "light"
     },
     "output_type": "display_data"
    }
   ],
   "source": [
    "# training accuracy\n",
    "plt.plot(history.history['acc'])\n",
    "plt.plot(history.history['val_acc'])\n",
    "plt.title(\"Model Accuracy\")\n",
    "plt.xlabel(\"Epochs\")\n",
    "plt.ylabel(\"Accuracy\")\n",
    "plt.legend(['train', 'val_acc'], loc='lower right')\n",
    "# plt.savefig('../reports/figures/mclf_model_metrics_v1.1.png', format='png')\n",
    "plt.show()"
   ]
  },
  {
   "cell_type": "code",
   "execution_count": 202,
   "metadata": {},
   "outputs": [
    {
     "data": {
      "image/png": "[encoded data removed]",
      "text/plain": [
       "<Figure size 432x288 with 1 Axes>"
      ]
     },
     "metadata": {
      "needs_background": "light"
     },
     "output_type": "display_data"
    }
   ],
   "source": [
    "# training loss\n",
    "plt.plot(history.history['loss'])\n",
    "plt.plot(history.history['val_loss'])\n",
    "plt.title(\"Model Loss\")\n",
    "plt.xlabel(\"Epochs\")\n",
    "plt.ylabel(\"Loss\")\n",
    "plt.legend(['train', 'val_loss'], loc='upper right')\n",
    "# plt.savefig('../reports/figures/mclf_model_metrics_v1.1.png', format='png')\n",
    "plt.show()"
   ]
  },
  {
   "cell_type": "code",
   "execution_count": 203,
   "metadata": {},
   "outputs": [
    {
     "name": "stdout",
     "output_type": "stream",
     "text": [
      "Training accuracy: 0.83%\n"
     ]
    }
   ],
   "source": [
    "print(f\"Training accuracy: {np.mean(history.history['acc']):.2}%\")"
   ]
  },
  {
   "cell_type": "code",
   "execution_count": 204,
   "metadata": {},
   "outputs": [
    {
     "name": "stdout",
     "output_type": "stream",
     "text": [
      "Test accuracy: 0.8%\n"
     ]
    }
   ],
   "source": [
    "# Test data\n",
    "scores = model.evaluate(X_test, y_test, verbose=0)\n",
    "print(f\"Test accuracy: {scores[1]:.2}%\")"
   ]
  },
  {
   "cell_type": "code",
   "execution_count": 217,
   "metadata": {},
   "outputs": [],
   "source": [
    "y_hat_test = [lb.classes_[pred] for pred in model.predict_classes(X_test)] "
   ]
  },
  {
   "cell_type": "code",
   "execution_count": 238,
   "metadata": {},
   "outputs": [
    {
     "data": {
      "image/png": "[encoded data removed]",
      "text/plain": [
       "<Figure size 720x576 with 2 Axes>"
      ]
     },
     "metadata": {
      "needs_background": "light"
     },
     "output_type": "display_data"
    }
   ],
   "source": [
    "fig, ax = plt.subplots(figsize=(10, 8))\n",
    "sns.heatmap(confusion_matrix(test['service_type_1'], y_hat_test), \n",
    "            annot=True, fmt='',\n",
    "            xticklabels=lb.classes_,\n",
    "            yticklabels=lb.classes_, ax=ax)\n",
    "ax.set(title='Confusion matrix', xlabel='Predicted', ylabel='Actual')\n",
    "plt.show()"
   ]
  },
  {
   "cell_type": "code",
   "execution_count": null,
   "metadata": {},
   "outputs": [],
   "source": []
  },
  {
   "cell_type": "code",
   "execution_count": null,
   "metadata": {},
   "outputs": [],
   "source": []
  }
 ],
 "metadata": {
  "kernelspec": {
   "display_name": "Python 3",
   "language": "python",
   "name": "python3"
  },
  "language_info": {
   "codemirror_mode": {
    "name": "ipython",
    "version": 3
   },
   "file_extension": ".py",
   "mimetype": "text/x-python",
   "name": "python",
   "nbconvert_exporter": "python",
   "pygments_lexer": "ipython3",
   "version": "3.7.3"
  },
  "toc": {
   "base_numbering": 1,
   "nav_menu": {},
   "number_sections": true,
   "sideBar": true,
   "skip_h1_title": false,
   "title_cell": "Table of Contents",
   "title_sidebar": "Contents",
   "toc_cell": false,
   "toc_position": {},
   "toc_section_display": true,
   "toc_window_display": true
  }
 },
 "nbformat": 4,
 "nbformat_minor": 2
}
